{
 "cells": [
  {
   "cell_type": "code",
   "execution_count": 1,
   "id": "72876c2c",
   "metadata": {},
   "outputs": [],
   "source": [
    "#1. De tim keyword trong text su dung gia tri TF-IDF\n",
    "# TF: tan suat xuat hien cua tu\n",
    "# IDF: nghich dao tan suat cua van ban -> danh gia tam quan trong cua tu"
   ]
  },
  {
   "cell_type": "code",
   "execution_count": 2,
   "id": "64ac3f8b",
   "metadata": {},
   "outputs": [],
   "source": [
    "# Them thu vien \n",
    "import nltk\n",
    "from nltk import tokenize\n",
    "from operator import itemgetter\n",
    "import math"
   ]
  },
  {
   "cell_type": "code",
   "execution_count": 3,
   "id": "247239bc",
   "metadata": {
    "scrolled": true
   },
   "outputs": [
    {
     "name": "stderr",
     "output_type": "stream",
     "text": [
      "[nltk_data] Downloading package stopwords to\n",
      "[nltk_data]     /Users/kieuanh/nltk_data...\n",
      "[nltk_data]   Package stopwords is already up-to-date!\n"
     ]
    }
   ],
   "source": [
    "# Loai bo cac tu khong co y nghia: a, an, the...\n",
    "from nltk.corpus import stopwords\n",
    "nltk.download('stopwords')\n",
    "from nltk.tokenize import word_tokenize \n",
    "stop_words = set(stopwords.words('english'))"
   ]
  },
  {
   "cell_type": "code",
   "execution_count": 4,
   "id": "c6c76461",
   "metadata": {},
   "outputs": [],
   "source": [
    "doc = 'The US Centers for Disease Control and Prevention will be updating its guidance almost in real time, as more Americans get vaccinated, said Fauci, director of the National Institute of Allergy and Infectious Diseases. The CDC relaxed its guidance last month on wearing masks outdoors, but still advises both vaccinated and unvaccinated people to still wear masks in indoor public spaces, such as a mall, movie theater or museum.'"
   ]
  },
  {
   "cell_type": "code",
   "execution_count": 5,
   "id": "81b3f440",
   "metadata": {},
   "outputs": [
    {
     "name": "stdout",
     "output_type": "stream",
     "text": [
      "69\n"
     ]
    }
   ],
   "source": [
    "#buoc 1: Tim tong so tu trong doc\n",
    "total_words = doc.split()\n",
    "total_word_length = len(total_words)\n",
    "print(total_word_length)"
   ]
  },
  {
   "cell_type": "code",
   "execution_count": 6,
   "id": "55085b49",
   "metadata": {},
   "outputs": [
    {
     "name": "stdout",
     "output_type": "stream",
     "text": [
      "2\n"
     ]
    }
   ],
   "source": [
    "# Buoc 2:Tong so cau\n",
    "total_sentences = tokenize.sent_tokenize(doc)\n",
    "total_sent_len = len(total_sentences)\n",
    "print(total_sent_len)"
   ]
  },
  {
   "cell_type": "code",
   "execution_count": 7,
   "id": "2afa3b84",
   "metadata": {},
   "outputs": [
    {
     "name": "stdout",
     "output_type": "stream",
     "text": [
      "{'The': 2, 'US': 1, 'Centers': 1, 'Disease': 1, 'Control': 1, 'Prevention': 1, 'updating': 1, 'guidance': 2, 'almost': 1, 'real': 1, 'time,': 1, 'Americans': 1, 'get': 1, 'vaccinated,': 1, 'said': 1, 'Fauci,': 1, 'director': 1, 'National': 1, 'Institute': 1, 'Allergy': 1, 'Infectious': 1, 'Diseases': 1, 'CDC': 1, 'relaxed': 1, 'last': 1, 'month': 1, 'wearing': 1, 'masks': 2, 'outdoors,': 1, 'still': 2, 'advises': 1, 'vaccinated': 1, 'unvaccinated': 1, 'people': 1, 'wear': 1, 'indoor': 1, 'public': 1, 'spaces,': 1, 'mall,': 1, 'movie': 1, 'theater': 1, 'museum': 1}\n",
      "{'The': 0.028985507246376812, 'US': 0.014492753623188406, 'Centers': 0.014492753623188406, 'Disease': 0.014492753623188406, 'Control': 0.014492753623188406, 'Prevention': 0.014492753623188406, 'updating': 0.014492753623188406, 'guidance': 0.028985507246376812, 'almost': 0.014492753623188406, 'real': 0.014492753623188406, 'time,': 0.014492753623188406, 'Americans': 0.014492753623188406, 'get': 0.014492753623188406, 'vaccinated,': 0.014492753623188406, 'said': 0.014492753623188406, 'Fauci,': 0.014492753623188406, 'director': 0.014492753623188406, 'National': 0.014492753623188406, 'Institute': 0.014492753623188406, 'Allergy': 0.014492753623188406, 'Infectious': 0.014492753623188406, 'Diseases': 0.014492753623188406, 'CDC': 0.014492753623188406, 'relaxed': 0.014492753623188406, 'last': 0.014492753623188406, 'month': 0.014492753623188406, 'wearing': 0.014492753623188406, 'masks': 0.028985507246376812, 'outdoors,': 0.014492753623188406, 'still': 0.028985507246376812, 'advises': 0.014492753623188406, 'vaccinated': 0.014492753623188406, 'unvaccinated': 0.014492753623188406, 'people': 0.014492753623188406, 'wear': 0.014492753623188406, 'indoor': 0.014492753623188406, 'public': 0.014492753623188406, 'spaces,': 0.014492753623188406, 'mall,': 0.014492753623188406, 'movie': 0.014492753623188406, 'theater': 0.014492753623188406, 'museum': 0.014492753623188406}\n"
     ]
    }
   ],
   "source": [
    "#  Buoc 3: Tinh gia tri TF cho tung tu\n",
    "tf_score = {}\n",
    "for each_word in total_words:\n",
    "    each_word = each_word.replace('.','')\n",
    "    if each_word not in stop_words:\n",
    "        if each_word in tf_score:\n",
    "            tf_score[each_word] += 1\n",
    "        else:\n",
    "            tf_score[each_word] = 1\n",
    "print(tf_score) # so lan xuat hien cua tung tu\n",
    "\n",
    "tf_score.update((x, y/int(total_word_length)) for x, y in tf_score.items())\n",
    "\n",
    "print(tf_score) # tan suat xuat hien cua tung tu"
   ]
  },
  {
   "cell_type": "code",
   "execution_count": 8,
   "id": "d80e1d28",
   "metadata": {},
   "outputs": [
    {
     "name": "stdout",
     "output_type": "stream",
     "text": [
      "{'The': 0.0, 'US': 0.6931471805599453, 'Centers': 0.6931471805599453, 'Disease': 0.6931471805599453, 'Control': 0.6931471805599453, 'Prevention': 0.6931471805599453, 'updating': 0.6931471805599453, 'guidance': 0.0, 'almost': 0.6931471805599453, 'real': 0.6931471805599453, 'time,': 0.6931471805599453, 'Americans': 0.6931471805599453, 'get': 0.6931471805599453, 'vaccinated,': 0.6931471805599453, 'said': 0.6931471805599453, 'Fauci,': 0.6931471805599453, 'director': 0.6931471805599453, 'National': 0.6931471805599453, 'Institute': 0.6931471805599453, 'Allergy': 0.6931471805599453, 'Infectious': 0.6931471805599453, 'Diseases': 0.6931471805599453, 'CDC': 0.6931471805599453, 'relaxed': 0.6931471805599453, 'last': 0.6931471805599453, 'month': 0.6931471805599453, 'wearing': 0.6931471805599453, 'masks': 0.6931471805599453, 'outdoors,': 0.6931471805599453, 'still': 0.0, 'advises': 0.6931471805599453, 'vaccinated': 0.6931471805599453, 'unvaccinated': 0.6931471805599453, 'people': 0.6931471805599453, 'wear': 0.6931471805599453, 'indoor': 0.6931471805599453, 'public': 0.6931471805599453, 'spaces,': 0.6931471805599453, 'mall,': 0.6931471805599453, 'movie': 0.6931471805599453, 'theater': 0.6931471805599453, 'museum': 0.6931471805599453}\n"
     ]
    }
   ],
   "source": [
    "def check_sent(word, sentences): \n",
    "    final = [all([w in x for w in word]) for x in sentences] \n",
    "    sent_len = [sentences[i] for i in range(0, len(final)) if final[i]]\n",
    "    return int(len(sent_len))\n",
    "\n",
    "\n",
    "# Buoc 4: Tinh gtr IDF cho tung tu\n",
    "idf_score = {}\n",
    "for each_word in total_words:\n",
    "    each_word = each_word.replace('.','')\n",
    "    if each_word not in stop_words:\n",
    "        if each_word in idf_score:\n",
    "            idf_score[each_word] = check_sent(each_word, total_sentences)\n",
    "        else:\n",
    "            idf_score[each_word] = 1\n",
    "\n",
    "idf_score.update((x, math.log(int(total_sent_len)/y)) for x, y in idf_score.items())\n",
    "\n",
    "print(idf_score)"
   ]
  },
  {
   "cell_type": "code",
   "execution_count": 9,
   "id": "f7d491f1",
   "metadata": {},
   "outputs": [
    {
     "name": "stdout",
     "output_type": "stream",
     "text": [
      "{'The': 0.0, 'US': 0.010045611312462975, 'Centers': 0.010045611312462975, 'Disease': 0.010045611312462975, 'Control': 0.010045611312462975, 'Prevention': 0.010045611312462975, 'updating': 0.010045611312462975, 'guidance': 0.0, 'almost': 0.010045611312462975, 'real': 0.010045611312462975, 'time,': 0.010045611312462975, 'Americans': 0.010045611312462975, 'get': 0.010045611312462975, 'vaccinated,': 0.010045611312462975, 'said': 0.010045611312462975, 'Fauci,': 0.010045611312462975, 'director': 0.010045611312462975, 'National': 0.010045611312462975, 'Institute': 0.010045611312462975, 'Allergy': 0.010045611312462975, 'Infectious': 0.010045611312462975, 'Diseases': 0.010045611312462975, 'CDC': 0.010045611312462975, 'relaxed': 0.010045611312462975, 'last': 0.010045611312462975, 'month': 0.010045611312462975, 'wearing': 0.010045611312462975, 'masks': 0.02009122262492595, 'outdoors,': 0.010045611312462975, 'still': 0.0, 'advises': 0.010045611312462975, 'vaccinated': 0.010045611312462975, 'unvaccinated': 0.010045611312462975, 'people': 0.010045611312462975, 'wear': 0.010045611312462975, 'indoor': 0.010045611312462975, 'public': 0.010045611312462975, 'spaces,': 0.010045611312462975, 'mall,': 0.010045611312462975, 'movie': 0.010045611312462975, 'theater': 0.010045611312462975, 'museum': 0.010045611312462975}\n"
     ]
    }
   ],
   "source": [
    "# Buoc 5: Tinh TF*IDF\n",
    "tf_idf_score = {key: tf_score[key] * idf_score.get(key, 0) for key in tf_score.keys()} \n",
    "print(tf_idf_score)"
   ]
  },
  {
   "cell_type": "code",
   "execution_count": 10,
   "id": "45253f54",
   "metadata": {},
   "outputs": [],
   "source": [
    "# Chon ra n keyword \n",
    "def get_top_n(dict_elem, n):\n",
    "    result = dict(sorted(dict_elem.items(), key = itemgetter(1), reverse = True)[:n]) \n",
    "    return list(result.keys())"
   ]
  },
  {
   "cell_type": "code",
   "execution_count": 11,
   "id": "a8618b21",
   "metadata": {},
   "outputs": [],
   "source": [
    "#Dua ra 5 keywords\n",
    "listOfKey= get_top_n(tf_idf_score, 5)"
   ]
  },
  {
   "cell_type": "code",
   "execution_count": 12,
   "id": "e07f3791",
   "metadata": {},
   "outputs": [],
   "source": [
    "#Goi y hashtag cho doan van\n",
    "def generate_hashtag(listOfW):\n",
    "    for s in listOfW:\n",
    "        s = '#'+s.title()\n",
    "        s = ''.join(s.split())\n",
    "        if len(s) in range(2,140):\n",
    "            print(s)\n",
    "        else:    \n",
    "            return False"
   ]
  },
  {
   "cell_type": "code",
   "execution_count": 14,
   "id": "70e30f58",
   "metadata": {},
   "outputs": [
    {
     "name": "stdout",
     "output_type": "stream",
     "text": [
      "Hashtag goi y cho doan van la:\n",
      "#Masks\n",
      "#Us\n",
      "#Centers\n",
      "#Disease\n",
      "#Control\n"
     ]
    }
   ],
   "source": [
    "print(\"Hashtag goi y cho doan van la:\")\n",
    "generate_hashtag(listOfKey)"
   ]
  },
  {
   "cell_type": "code",
   "execution_count": null,
   "id": "2a189ff8",
   "metadata": {},
   "outputs": [],
   "source": []
  }
 ],
 "metadata": {
  "kernelspec": {
   "display_name": "Python 3",
   "language": "python",
   "name": "python3"
  },
  "language_info": {
   "codemirror_mode": {
    "name": "ipython",
    "version": 3
   },
   "file_extension": ".py",
   "mimetype": "text/x-python",
   "name": "python",
   "nbconvert_exporter": "python",
   "pygments_lexer": "ipython3",
   "version": "3.9.5"
  }
 },
 "nbformat": 4,
 "nbformat_minor": 5
}
